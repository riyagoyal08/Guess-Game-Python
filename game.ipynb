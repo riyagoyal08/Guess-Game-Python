{
 "cells": [
  {
   "cell_type": "code",
   "execution_count": 5,
   "metadata": {
    "scrolled": false
   },
   "outputs": [
    {
     "name": "stdout",
     "output_type": "stream",
     "text": [
      "Hello,Welcome to the Truth and Dare game!!\n",
      "Press any key to start hjh\n",
      "Enter the names of players sep by ',' riya,t,s,p\n",
      "Hello s, Its's your turn\n",
      "Enter your choice truth or dare: ss\n",
      "s get lost :D\n",
      "Do you want to continue playing y|n -->n\n",
      "Thanks for playing :)\n"
     ]
    }
   ],
   "source": [
    "from random import choice\n",
    "from time import sleep\n",
    "truth=['biggest fear','funny moment','aim in life','most embarassing moment',\"what's your dream place\",\"any secret\",\"your favourite quote\",\"jeetu bhaiya of your life :p\",\"hobby\",\"share your best memory till now\"]\n",
    "dare=['dance','sing','recite a poetry','any joke','acting of any teacher','recite a funny dialog from any movie','do 20 pushups :p','make a new friend','do all your assignments :P','any inspirational quote']\n",
    "\n",
    "print(\"Hello,Welcome to the Truth and Dare game!!\")\n",
    "sleep(2)\n",
    "\n",
    "if input(\"Press any key to start \"):    \n",
    "\n",
    "    players=input(\"Enter the names of players sep by ',' \").strip().split(',')\n",
    "    b='y'\n",
    "    while b=='y':\n",
    "        chance=choice(players)\n",
    "        sleep(2)\n",
    "        print(f\"Hello {chance}, Its's your turn\")\n",
    "        sleep(2)\n",
    "        player=input(\"Enter your choice truth or dare: \").lower().strip()           \n",
    "        sleep(2)\n",
    "        if player=='truth':\n",
    "            print(\"Your task is: {}\".format(choice(truth)))\n",
    "            sleep(2)\n",
    "            b=input(\"Do you want to continue playing y|n --> \").strip().lower()\n",
    "            if b=='y':\n",
    "                continue\n",
    "            else:\n",
    "                print(\"Thanks for playing :)\")\n",
    "\n",
    "                \n",
    "                break\n",
    "        elif player=='dare':\n",
    "            print(\"Your task is: {}\".format(choice(dare)))\n",
    "            sleep(2)\n",
    "            b=input(\"Do you want to continue playing y|n --> \").strip().lower()\n",
    "            if b=='y':\n",
    "                continue\n",
    "            else:\n",
    "                print(\"Thanks for playing :)\")\n",
    "\n",
    "                \n",
    "                break       \n",
    "        else:\n",
    "            print(f\"{chance} get lost :D\")\n",
    "            sleep(2)\n",
    "            b=input(\"Do you want to continue playing y|n -->\").strip().lower()\n",
    "            if b=='y':\n",
    "                continue\n",
    "            else:\n",
    "                print(\"Thanks for playing :)\")\n",
    "\n",
    "                break\n",
    "    \n",
    "    else:\n",
    "        print(\"Thanks for playing :)\")\n",
    "        print(\"Goodbye!!\")\n",
    "else:\n",
    "    print(\"Goodbye!\")"
   ]
  },
  {
   "cell_type": "code",
   "execution_count": null,
   "metadata": {},
   "outputs": [],
   "source": []
  },
  {
   "cell_type": "code",
   "execution_count": null,
   "metadata": {},
   "outputs": [],
   "source": []
  }
 ],
 "metadata": {
  "kernelspec": {
   "display_name": "Python 3",
   "language": "python",
   "name": "python3"
  },
  "language_info": {
   "codemirror_mode": {
    "name": "ipython",
    "version": 3
   },
   "file_extension": ".py",
   "mimetype": "text/x-python",
   "name": "python",
   "nbconvert_exporter": "python",
   "pygments_lexer": "ipython3",
   "version": "3.6.5"
  }
 },
 "nbformat": 4,
 "nbformat_minor": 2
}
